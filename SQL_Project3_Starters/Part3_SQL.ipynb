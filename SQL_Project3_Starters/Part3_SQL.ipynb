{
 "cells": [
  {
   "cell_type": "markdown",
   "metadata": {},
   "source": [
    "# Part 3: "
   ]
  },
  {
   "cell_type": "code",
   "execution_count": 1,
   "metadata": {},
   "outputs": [],
   "source": [
    "import pandas as pd\n",
    "import sqlite3"
   ]
  },
  {
   "cell_type": "code",
   "execution_count": 2,
   "metadata": {},
   "outputs": [],
   "source": [
    "conn = sqlite3.connect('database.sqlite')"
   ]
  },
  {
   "cell_type": "code",
   "execution_count": 8,
   "metadata": {},
   "outputs": [
    {
     "data": {
      "text/plain": [
       "array([], dtype=object)"
      ]
     },
     "execution_count": 8,
     "metadata": {},
     "output_type": "execute_result"
    }
   ],
   "source": [
    "# Read table coloumn names\n",
    "\n",
    "query = \"SELECT * FROM sqlite_master;\"\n",
    "df_schema = pd.read_sql_query(query, conn)\n",
    "\n",
    "# Print all table names that we have in our databases\n",
    "\n",
    "df_schema.tbl_name.unique()"
   ]
  },
  {
   "cell_type": "code",
   "execution_count": null,
   "metadata": {},
   "outputs": [],
   "source": [
    "# 1. Which team scored the most points when playing at home?\n",
    "\n",
    "query = \"SELECT Match.home_team_goal,Team.team_long_name  from Match LEFT JOIN Team ON Match.home_team_api_id = Team.team_api_id \"\n",
    "dataframe_question1= pd.read_sql_query(query,conn)"
   ]
  },
  {
   "cell_type": "code",
   "execution_count": null,
   "metadata": {},
   "outputs": [],
   "source": [
    "dataframe_question1 = dataframe_question1.sort_values('home_team_goal', ascending=False)"
   ]
  },
  {
   "cell_type": "code",
   "execution_count": null,
   "metadata": {},
   "outputs": [],
   "source": [
    "# 1. Which Team scored the most points when playing at home?\n",
    "query = \"SELECT * FROM Team\"\n",
    "dataframe_question1= pd.read_sql_query(query,conn)"
   ]
  },
  {
   "cell_type": "code",
   "execution_count": null,
   "metadata": {},
   "outputs": [],
   "source": [
    "# 2. Did this team score the most points when playing away?\n",
    "\n",
    "query = \"SELECT Match.away_team_goal,Team.team_long_name  from Match LEFT JOIN Team ON Match.away_team_api_id = Team.team_api_id \"\n",
    "dataframe_question2= pd.read_sql_query(query,conn)"
   ]
  },
  {
   "cell_type": "code",
   "execution_count": null,
   "metadata": {},
   "outputs": [],
   "source": [
    "dataframe_question2 = dataframe_question2.sort_values('away_team_goal', ascending=False)"
   ]
  },
  {
   "cell_type": "code",
   "execution_count": null,
   "metadata": {},
   "outputs": [],
   "source": [
    "# 3. How many matches result in a tie?\n",
    "\n",
    "query = \"SELECT home_team_goal,away_team_goal FROM Match\"\n",
    "dataframe_question3= pd.read_sql_query(query,conn)"
   ]
  },
  {
   "cell_type": "code",
   "execution_count": null,
   "metadata": {},
   "outputs": [],
   "source": [
    "dataframe_question3[\"Difference\"]=dataframe_question3[\"home_team_goal\"]-dataframe_question3[\"away_team_goal\"]"
   ]
  },
  {
   "cell_type": "code",
   "execution_count": null,
   "metadata": {},
   "outputs": [],
   "source": [
    "dataframe_question3[\"Difference\"].value_counts(ascending=True)"
   ]
  },
  {
   "cell_type": "code",
   "execution_count": null,
   "metadata": {},
   "outputs": [],
   "source": [
    "# 4.a. How many players have Smith for their last name?\n",
    "\n",
    "query = \"SELECT player_name FROM Player\"\n",
    "dataframe_question4a= pd.read_sql_query(query,conn)"
   ]
  },
  {
   "cell_type": "code",
   "execution_count": null,
   "metadata": {},
   "outputs": [],
   "source": [
    "print(dataframe_question4a)"
   ]
  },
  {
   "cell_type": "code",
   "execution_count": null,
   "metadata": {},
   "outputs": [],
   "source": [
    "counter=0\n",
    "for x in dataframe_question4a['player_name']:\n",
    "    x=x.split()\n",
    "    if(len(x)==1):\n",
    "        continue\n",
    "    if(x[1]=='Smith'):\n",
    "        counter=counter+1"
   ]
  },
  {
   "cell_type": "code",
   "execution_count": null,
   "metadata": {},
   "outputs": [],
   "source": [
    "# 4.b How many players have Smith anywhere in there name?\n",
    "\n",
    "counter_1=0\n",
    "for x in dataframe_question4a['player_name']:\n",
    "    x=x.split()\n",
    "    if(len(x)==1):\n",
    "        continue\n",
    "    if(x[1]=='Smith'):\n",
    "        counter_1=counter_1+1\n",
    "    if(x[0]=='Smith'):\n",
    "        counter_1=counter_1+1"
   ]
  },
  {
   "cell_type": "code",
   "execution_count": null,
   "metadata": {},
   "outputs": [],
   "source": [
    "# 5. What was the median ties score?\n",
    "\n"
   ]
  },
  {
   "cell_type": "code",
   "execution_count": null,
   "metadata": {},
   "outputs": [],
   "source": [
    "# 6. Percentage of players prefer their left or right foot?\n",
    "\n",
    "query = \"SELECT preferred_foot FROM Player_Attributes\"\n",
    "dataframe_question6= pd.read_sql_query(query,conn)"
   ]
  },
  {
   "cell_type": "code",
   "execution_count": null,
   "metadata": {},
   "outputs": [],
   "source": [
    "temp=dataframe_question6[\"preferred_foot\"].value_counts(ascending=True)\n",
    "percentagevalue=(temp[0]/(temp[0]+temp[1]))\n",
    "print(\"Percentage of players who prefer their right or left foot are\",percentagevalue*100,\"%\")"
   ]
  },
  {
   "cell_type": "code",
   "execution_count": null,
   "metadata": {},
   "outputs": [],
   "source": []
  }
 ],
 "metadata": {
  "kernelspec": {
   "display_name": "Python 3",
   "language": "python",
   "name": "python3"
  },
  "language_info": {
   "codemirror_mode": {
    "name": "ipython",
    "version": 3
   },
   "file_extension": ".py",
   "mimetype": "text/x-python",
   "name": "python",
   "nbconvert_exporter": "python",
   "pygments_lexer": "ipython3",
   "version": "3.8.3"
  }
 },
 "nbformat": 4,
 "nbformat_minor": 4
}
